{
 "cells": [
  {
   "cell_type": "markdown",
   "metadata": {},
   "source": [
    "### IMPORTS"
   ]
  },
  {
   "cell_type": "code",
   "execution_count": 1,
   "metadata": {},
   "outputs": [],
   "source": [
    "# MYSQL\n",
    "import mysql.connector\n",
    "from mysql.connector import Error\n",
    "\n",
    "# AI\n",
    "from sklearn.preprocessing import MinMaxScaler\n",
    "from sklearn.metrics.pairwise import cosine_similarity\n",
    "\n",
    "# SCRAPPING\n",
    "import urllib\n",
    "from urllib import request\n",
    "import bs4\n",
    "from bs4 import BeautifulSoup\n",
    "from selenium import webdriver\n",
    "from selenium.webdriver.common.by import By\n",
    "\n",
    "# OTHERS\n",
    "import pandas as pd\n",
    "import numpy as np\n",
    "import time"
   ]
  },
  {
   "cell_type": "markdown",
   "metadata": {},
   "source": [
    "### DB Works"
   ]
  },
  {
   "cell_type": "code",
   "execution_count": 2,
   "metadata": {},
   "outputs": [],
   "source": [
    "def create_server_connection(host_name, user_name, user_password):\n",
    "    connection = None\n",
    "    try:\n",
    "        connection = mysql.connector.connect(\n",
    "            host=host_name,\n",
    "            user=user_name,\n",
    "            passwd=user_password\n",
    "        )\n",
    "        print(\"MySQL Database connection successful\")\n",
    "    except Error as err:\n",
    "        print(f\"Error: '{err}'\")\n",
    "\n",
    "    return connection\n",
    "\n",
    "def create_database_connection(host_name, user_name, user_password, database_name):\n",
    "    connection = None\n",
    "    try:\n",
    "        connection = mysql.connector.connect(\n",
    "            host=host_name,\n",
    "            user=user_name,\n",
    "            passwd=user_password,\n",
    "            database=database_name\n",
    "        )\n",
    "        print(\"MySQL Database connection successful\")\n",
    "    except Error as err:\n",
    "        print(f\"Error: '{err}'\")\n",
    "\n",
    "    return connection"
   ]
  },
  {
   "cell_type": "code",
   "execution_count": 3,
   "metadata": {},
   "outputs": [
    {
     "name": "stdout",
     "output_type": "stream",
     "text": [
      "MySQL Database connection successful\n"
     ]
    }
   ],
   "source": [
    "connection = create_database_connection(\"localhost\", \"root\", \"angel11\", \"footballscience\")"
   ]
  },
  {
   "cell_type": "code",
   "execution_count": 17,
   "metadata": {},
   "outputs": [],
   "source": [
    "from selenium import webdriver\n",
    "from selenium.webdriver.chrome.service import Service\n",
    "# C:\\Projets\\extra\\chromedriver-win32\n",
    "options = webdriver.ChromeOptions()\n",
    "options.add_argument('-headless')\n",
    "options.add_argument('-no-sandbox')\n",
    "options.add_argument('-disable-dev-shm-usage')\n",
    "options.add_argument(\"enable-automation\")\n",
    "options.add_argument(\"--window-size=1920,1080\")\n",
    "options.add_argument(\"--disable-extensions\")\n",
    "options.add_argument(\"--dns-prefetch-disable\")\n",
    "options.add_argument(\"--disable-gpu\")\n",
    "\n",
    "service = Service('C:/Projets/extra/chromedriver-win32/chromedriver.exe')\n",
    "service.start()\n",
    "\n",
    "driver = webdriver.Chrome(service=service, options = options)"
   ]
  },
  {
   "cell_type": "code",
   "execution_count": 5,
   "metadata": {},
   "outputs": [],
   "source": [
    "# POUR LE MOMENT BLOQUE : transfert_markt = \"https://www.transfermarkt.fr/\"\n",
    "sofifa = \"https://sofifa.com/players\"\n",
    "football_observatory = \"https://football-observatory.com/IMG/sites/playerprofile/\"\n",
    "whoscored = \"https://www.whoscored.com/\""
   ]
  },
  {
   "cell_type": "markdown",
   "metadata": {},
   "source": [
    "### Scrapping sofifa Player Statistics"
   ]
  },
  {
   "cell_type": "code",
   "execution_count": 49,
   "metadata": {},
   "outputs": [],
   "source": [
    "path = \"https://sofifa.com/players?type=all&lg%5B0%5D=13&lg%5B1%5D=16&lg%5B2%5D=19&lg%5B3%5D=31&lg%5B4%5D=53&offset=120\" #\"https://sofifa.com/players\"\n",
    "driver.get(path)"
   ]
  },
  {
   "cell_type": "code",
   "execution_count": 58,
   "metadata": {},
   "outputs": [
    {
     "name": "stdout",
     "output_type": "stream",
     "text": [
      "Name Age Overall rating Potential Team & Contract Value Wage Total stats\n",
      "Gabriel Jesus\n",
      "ST RW\n",
      "26 83 84\n",
      "Arsenal\n",
      "2022 ~ 2027\n",
      "€43.5M €150K 2109\n",
      "Pau Torres\n",
      "CB\n",
      "26 83 86\n",
      "Aston Villa\n",
      "2023 ~ 2028\n",
      "€42M €100K 1915\n",
      "R. Sterling\n",
      "LM RM ST\n",
      "28 83\n",
      "83\n",
      "Chelsea\n",
      "2022 ~ 2027\n",
      "€36.5M €145K 2080\n",
      "R. James\n",
      "RB RWB\n",
      "23 83 85\n",
      "Chelsea\n",
      "2017 ~ 2028\n",
      "€43.5M €105K 2255\n",
      "Thiago\n",
      "CM\n",
      "32 83 83\n",
      "Liverpool\n",
      "2020 ~ 2024\n",
      "€28.5M €135K 2154\n",
      "C. Gakpo\n",
      "CF LW\n",
      "24 83\n",
      "87\n",
      "Liverpool\n",
      "2023 ~ 2028\n",
      "€52.5M €130K 2073\n",
      "A. Onana\n",
      "GK\n",
      "27 83 84\n",
      "Manchester United\n",
      "2023 ~ 2028\n",
      "€31M €110K 1496\n",
      "M. Rashford\n",
      "LW RW ST\n",
      "25 83 84\n",
      "Manchester United\n",
      "2015 ~ 2028\n",
      "€43.5M €155K 2034\n",
      "S. Botman\n",
      "CB\n",
      "23 83 87\n",
      "Newcastle United\n",
      "2022 ~ 2027\n",
      "€47M €105K 1801\n",
      "C. Romero\n",
      "CB\n",
      "25 83 87\n",
      "Tottenham Hotspur\n",
      "2022 ~ 2027\n",
      "€45.5M €95K 1871\n",
      "K. Navas\n",
      "GK\n",
      "36 83 83\n",
      "Paris Saint Germain\n",
      "2019 ~ 2024\n",
      "€4M €50K 1400\n"
     ]
    }
   ],
   "source": [
    "players = driver.find_element('xpath','/html/body/main/article/table')\n",
    "print(players.text)"
   ]
  },
  {
   "cell_type": "code",
   "execution_count": 52,
   "metadata": {},
   "outputs": [],
   "source": [
    "df = pd.DataFrame(columns=[\"Name\", \"Position\", \"Age\", \"Value\", \"Wage\", \"Contract_start\", \"Contract_end\", \"Club\"])"
   ]
  },
  {
   "cell_type": "code",
   "execution_count": 62,
   "metadata": {},
   "outputs": [
    {
     "name": "stdout",
     "output_type": "stream",
     "text": [
      "['26', '83', '84']\n",
      "['26', '83', '86']\n",
      "['28', '83']\n"
     ]
    },
    {
     "ename": "IndexError",
     "evalue": "list index out of range",
     "output_type": "error",
     "traceback": [
      "\u001b[1;31m---------------------------------------------------------------------------\u001b[0m",
      "\u001b[1;31mIndexError\u001b[0m                                Traceback (most recent call last)",
      "Cell \u001b[1;32mIn[62], line 21\u001b[0m\n\u001b[0;32m     19\u001b[0m Age\u001b[38;5;241m.\u001b[39mappend(age_grade_potential[\u001b[38;5;241m0\u001b[39m])\n\u001b[0;32m     20\u001b[0m Grade\u001b[38;5;241m.\u001b[39mappend(age_grade_potential[\u001b[38;5;241m1\u001b[39m])\n\u001b[1;32m---> 21\u001b[0m Potential\u001b[38;5;241m.\u001b[39mappend(\u001b[43mage_grade_potential\u001b[49m\u001b[43m[\u001b[49m\u001b[38;5;241;43m2\u001b[39;49m\u001b[43m]\u001b[49m)\n\u001b[0;32m     22\u001b[0m Club\u001b[38;5;241m.\u001b[39mappend(liste[i\u001b[38;5;241m+\u001b[39m\u001b[38;5;241m3\u001b[39m])\n\u001b[0;32m     23\u001b[0m Contract_start\u001b[38;5;241m.\u001b[39mappend(liste[i\u001b[38;5;241m+\u001b[39m\u001b[38;5;241m4\u001b[39m])\n",
      "\u001b[1;31mIndexError\u001b[0m: list index out of range"
     ]
    }
   ],
   "source": [
    "liste = players.text.split(\"\\n\")\n",
    "\n",
    "name = []\n",
    "Position = []\n",
    "Age = []\n",
    "Grade = []\n",
    "Potential = []\n",
    "Value = []\n",
    "Wage = []\n",
    "Contract_start = []\n",
    "Contract_end = []\n",
    "Club = []\n",
    "\n",
    "for i in range(1, len(liste), 6):\n",
    "    name.append(liste[i])\n",
    "    Position.append(liste[i+1])\n",
    "    age_grade_potential = liste[i+2].split(\" \")\n",
    "    print(age_grade_potential)\n",
    "    Age.append(age_grade_potential[0])\n",
    "    Grade.append(age_grade_potential[1])\n",
    "    try:\n",
    "        Potential.append(age_grade_potential[2])\n",
    "    except:\n",
    "        \n",
    "        Potential.append(age_grade_potential[2])\n",
    "    Club.append(liste[i+3])\n",
    "    Contract_start.append(liste[i+4])\n",
    "    Contract_start.append(liste[i+5])\n",
    "    Wage.append(liste[i+6])"
   ]
  },
  {
   "cell_type": "code",
   "execution_count": null,
   "metadata": {},
   "outputs": [],
   "source": []
  },
  {
   "cell_type": "code",
   "execution_count": null,
   "metadata": {},
   "outputs": [],
   "source": []
  },
  {
   "cell_type": "code",
   "execution_count": null,
   "metadata": {},
   "outputs": [],
   "source": []
  },
  {
   "cell_type": "markdown",
   "metadata": {},
   "source": [
    "### Annexes "
   ]
  },
  {
   "cell_type": "code",
   "execution_count": 6,
   "metadata": {},
   "outputs": [],
   "source": [
    "driver.get(football_observatory)\n",
    "# liste = driver.find_element('xpath','/html/body/div/div/div/div[2]/div[2]')\n",
    "# print(liste.text)"
   ]
  },
  {
   "cell_type": "code",
   "execution_count": 72,
   "metadata": {},
   "outputs": [],
   "source": [
    "search_box = driver.find_element('xpath','//*[@id=\"player\"]')\n",
    "search_box.clear()\n",
    "search_box.send_keys(\"Rúben Dias\")\n",
    "auto_complete = driver.find_elements('xpath', '//*[@id=\"player\"]')\n",
    "auto_complete[0].click()"
   ]
  },
  {
   "cell_type": "code",
   "execution_count": 73,
   "metadata": {},
   "outputs": [],
   "source": [
    "liste2 = driver.find_element('xpath','/html/body/div/div/div/div[2]/div[2]')"
   ]
  },
  {
   "cell_type": "code",
   "execution_count": 74,
   "metadata": {},
   "outputs": [
    {
     "data": {
      "text/plain": [
       "'Performance per game area\\nRatio to team (×)\\nRatio to league (×)\\n1\\nAir defence\\n3.10\\n3.10\\n2\\nGround defence\\n1.87\\n1.93\\n3\\nAir attack\\n1.74\\n1.69\\n4\\nDistribution\\n1.34\\n1.78\\n5\\nRecovery\\n1.28\\n1.43\\n6\\nShooting\\n0.49\\n0.75\\n7\\nChance creation\\n0.12\\n0.25\\n8\\nTake on\\n0.06\\n0.07'"
      ]
     },
     "execution_count": 74,
     "metadata": {},
     "output_type": "execute_result"
    }
   ],
   "source": [
    "liste2.text"
   ]
  },
  {
   "cell_type": "code",
   "execution_count": null,
   "metadata": {},
   "outputs": [],
   "source": [
    "search_box = driver.find_element('xpath','//*[@id=\"player\"]')\n",
    "search_box.clear()\n",
    "search_box.send_keys(\"Hugo\")\n",
    "auto_complete = driver.find_elements('xpath', '/html/body/div[2]/ul/li[1]')\n",
    "auto_complete[0].click()"
   ]
  },
  {
   "cell_type": "code",
   "execution_count": 75,
   "metadata": {},
   "outputs": [],
   "source": [
    "liste3 = driver.find_element('xpath','/html/body/div/div/div/div[2]/div[2]')"
   ]
  },
  {
   "cell_type": "code",
   "execution_count": 76,
   "metadata": {},
   "outputs": [
    {
     "data": {
      "text/plain": [
       "['Performance per game area',\n",
       " 'Ratio to team (×)',\n",
       " 'Ratio to league (×)',\n",
       " '1',\n",
       " 'Air defence',\n",
       " '3.10',\n",
       " '3.10',\n",
       " '2',\n",
       " 'Ground defence',\n",
       " '1.87',\n",
       " '1.93',\n",
       " '3',\n",
       " 'Air attack',\n",
       " '1.74',\n",
       " '1.69',\n",
       " '4',\n",
       " 'Distribution',\n",
       " '1.34',\n",
       " '1.78',\n",
       " '5',\n",
       " 'Recovery',\n",
       " '1.28',\n",
       " '1.43',\n",
       " '6',\n",
       " 'Shooting',\n",
       " '0.49',\n",
       " '0.75',\n",
       " '7',\n",
       " 'Chance creation',\n",
       " '0.12',\n",
       " '0.25',\n",
       " '8',\n",
       " 'Take on',\n",
       " '0.06',\n",
       " '0.07']"
      ]
     },
     "execution_count": 76,
     "metadata": {},
     "output_type": "execute_result"
    }
   ],
   "source": [
    "test = liste3.text.split(\"\\n\")\n",
    "test"
   ]
  },
  {
   "cell_type": "code",
   "execution_count": null,
   "metadata": {},
   "outputs": [],
   "source": [
    "#script pour récuperer les statistiques des joueurs\n",
    "#listes noms / listes air defence ...\n",
    "stats = []\n",
    "liste_joueur_non_present = []\n",
    "search_box = driver.find_element('xpath','//*[@id=\"player\"]')\n",
    "for player in liste_joueurs:\n",
    "    search_box.clear()\n",
    "    search_box.send_keys(player)\n",
    "    time.sleep(1)\n",
    "    auto_complete = driver.find_elements('xpath', '/html/body/div[2]/ul/li[1]')\n",
    "    try:\n",
    "        auto_complete[0].click()\n",
    "        liste3 = driver.find_element('xpath','/html/body/div/div/div/div[2]/div[2]')\n",
    "        liste3 = liste3.text.split(\"\\n\")\n",
    "        stat = [liste3[5],liste3[6],liste3[9],liste3[10],liste3[13],liste3[14],liste3[17],liste3[18],liste3[21],liste3[22],liste3[25],liste3[26],liste3[29],liste3[30],liste3[33],liste3[34]]\n",
    "        stats.append(stat)\n",
    "    except:\n",
    "        liste_joueur_non_present.append(player)"
   ]
  },
  {
   "cell_type": "code",
   "execution_count": 14,
   "metadata": {},
   "outputs": [],
   "source": [
    "connection.close()"
   ]
  },
  {
   "cell_type": "code",
   "execution_count": 53,
   "metadata": {},
   "outputs": [
    {
     "name": "stdout",
     "output_type": "stream",
     "text": [
      "footballscience\n"
     ]
    }
   ],
   "source": [
    "print(connection.database)"
   ]
  }
 ],
 "metadata": {
  "kernelspec": {
   "display_name": "footballscienceVenv",
   "language": "python",
   "name": "python3"
  },
  "language_info": {
   "codemirror_mode": {
    "name": "ipython",
    "version": 3
   },
   "file_extension": ".py",
   "mimetype": "text/x-python",
   "name": "python",
   "nbconvert_exporter": "python",
   "pygments_lexer": "ipython3",
   "version": "3.9.13"
  }
 },
 "nbformat": 4,
 "nbformat_minor": 2
}
