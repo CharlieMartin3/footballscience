{
 "cells": [
  {
   "cell_type": "markdown",
   "metadata": {},
   "source": [
    "### IMPORTS"
   ]
  },
  {
   "cell_type": "code",
   "execution_count": 22,
   "metadata": {},
   "outputs": [],
   "source": [
    "# MYSQL\n",
    "import mysql.connector\n",
    "from mysql.connector import Error\n",
    "\n",
    "# AI\n",
    "from sklearn.preprocessing import MinMaxScaler\n",
    "from sklearn.metrics.pairwise import cosine_similarity\n",
    "\n",
    "# SCRAPPING\n",
    "import urllib\n",
    "from urllib import request\n",
    "import bs4\n",
    "from bs4 import BeautifulSoup\n",
    "from selenium import webdriver\n",
    "from selenium.webdriver.common.by import By\n",
    "\n",
    "# OTHERS\n",
    "import pandas as pd\n",
    "import numpy as np\n",
    "import time"
   ]
  },
  {
   "cell_type": "markdown",
   "metadata": {},
   "source": [
    "### DB Works"
   ]
  },
  {
   "cell_type": "code",
   "execution_count": 16,
   "metadata": {},
   "outputs": [],
   "source": [
    "def create_server_connection(host_name, user_name, user_password):\n",
    "    connection = None\n",
    "    try:\n",
    "        connection = mysql.connector.connect(\n",
    "            host=host_name,\n",
    "            user=user_name,\n",
    "            passwd=user_password\n",
    "        )\n",
    "        print(\"MySQL Database connection successful\")\n",
    "    except Error as err:\n",
    "        print(f\"Error: '{err}'\")\n",
    "\n",
    "    return connection\n",
    "\n",
    "def create_database_connection(host_name, user_name, user_password, database_name):\n",
    "    connection = None\n",
    "    try:\n",
    "        connection = mysql.connector.connect(\n",
    "            host=host_name,\n",
    "            user=user_name,\n",
    "            passwd=user_password,\n",
    "            database=database_name\n",
    "        )\n",
    "        print(\"MySQL Database connection successful\")\n",
    "    except Error as err:\n",
    "        print(f\"Error: '{err}'\")\n",
    "\n",
    "    return connection"
   ]
  },
  {
   "cell_type": "code",
   "execution_count": 18,
   "metadata": {},
   "outputs": [
    {
     "name": "stdout",
     "output_type": "stream",
     "text": [
      "MySQL Database connection successful\n"
     ]
    }
   ],
   "source": [
    "connection = create_database_connection(\"localhost\", \"root\", \"angel11\", \"footballscience\")"
   ]
  },
  {
   "cell_type": "code",
   "execution_count": 57,
   "metadata": {},
   "outputs": [],
   "source": [
    "from selenium import webdriver\n",
    "from selenium.webdriver.chrome.service import Service\n",
    "# C:\\Projets\\extra\\chromedriver-win32\n",
    "options = webdriver.ChromeOptions()\n",
    "options.add_argument('-headless')\n",
    "options.add_argument('-no-sandbox')\n",
    "options.add_argument('-disable-dev-shm-usage')\n",
    "options.add_argument(\"enable-automation\")\n",
    "options.add_argument(\"--window-size=1920,1080\")\n",
    "options.add_argument(\"--disable-extensions\")\n",
    "options.add_argument(\"--dns-prefetch-disable\")\n",
    "options.add_argument(\"--disable-gpu\")\n",
    "\n",
    "service = Service('C:/Projets/extra/chromedriver-win32/chromedriver.exe')\n",
    "service.start()\n",
    "\n",
    "driver = webdriver.Chrome(service=service, options = options)"
   ]
  },
  {
   "cell_type": "code",
   "execution_count": 69,
   "metadata": {},
   "outputs": [],
   "source": [
    "# POUR LE MOMENT BLOQUE : transfert_markt = \"https://www.transfermarkt.fr/\"\n",
    "sofifa = \"https://sofifa.com/players\"\n",
    "football_observatory = \"https://football-observatory.com/IMG/sites/playerprofile/\"\n",
    "whoscored = \"https://www.whoscored.com/\""
   ]
  },
  {
   "cell_type": "code",
   "execution_count": 71,
   "metadata": {},
   "outputs": [],
   "source": [
    "driver.get(football_observatory)\n",
    "# liste = driver.find_element('xpath','/html/body/div/div/div/div[2]/div[2]')\n",
    "# print(liste.text)"
   ]
  },
  {
   "cell_type": "code",
   "execution_count": 72,
   "metadata": {},
   "outputs": [],
   "source": [
    "search_box = driver.find_element('xpath','//*[@id=\"player\"]')\n",
    "search_box.clear()\n",
    "search_box.send_keys(\"Rúben Dias\")\n",
    "auto_complete = driver.find_elements('xpath', '//*[@id=\"player\"]')\n",
    "auto_complete[0].click()"
   ]
  },
  {
   "cell_type": "code",
   "execution_count": 73,
   "metadata": {},
   "outputs": [],
   "source": [
    "liste2 = driver.find_element('xpath','/html/body/div/div/div/div[2]/div[2]')"
   ]
  },
  {
   "cell_type": "code",
   "execution_count": 74,
   "metadata": {},
   "outputs": [
    {
     "data": {
      "text/plain": [
       "'Performance per game area\\nRatio to team (×)\\nRatio to league (×)\\n1\\nAir defence\\n3.10\\n3.10\\n2\\nGround defence\\n1.87\\n1.93\\n3\\nAir attack\\n1.74\\n1.69\\n4\\nDistribution\\n1.34\\n1.78\\n5\\nRecovery\\n1.28\\n1.43\\n6\\nShooting\\n0.49\\n0.75\\n7\\nChance creation\\n0.12\\n0.25\\n8\\nTake on\\n0.06\\n0.07'"
      ]
     },
     "execution_count": 74,
     "metadata": {},
     "output_type": "execute_result"
    }
   ],
   "source": [
    "liste2.text"
   ]
  },
  {
   "cell_type": "code",
   "execution_count": null,
   "metadata": {},
   "outputs": [],
   "source": [
    "search_box = driver.find_element('xpath','//*[@id=\"player\"]')\n",
    "search_box.clear()\n",
    "search_box.send_keys(\"Hugo\")\n",
    "auto_complete = driver.find_elements('xpath', '/html/body/div[2]/ul/li[1]')\n",
    "auto_complete[0].click()"
   ]
  },
  {
   "cell_type": "code",
   "execution_count": 75,
   "metadata": {},
   "outputs": [],
   "source": [
    "liste3 = driver.find_element('xpath','/html/body/div/div/div/div[2]/div[2]')"
   ]
  },
  {
   "cell_type": "code",
   "execution_count": 76,
   "metadata": {},
   "outputs": [
    {
     "data": {
      "text/plain": [
       "['Performance per game area',\n",
       " 'Ratio to team (×)',\n",
       " 'Ratio to league (×)',\n",
       " '1',\n",
       " 'Air defence',\n",
       " '3.10',\n",
       " '3.10',\n",
       " '2',\n",
       " 'Ground defence',\n",
       " '1.87',\n",
       " '1.93',\n",
       " '3',\n",
       " 'Air attack',\n",
       " '1.74',\n",
       " '1.69',\n",
       " '4',\n",
       " 'Distribution',\n",
       " '1.34',\n",
       " '1.78',\n",
       " '5',\n",
       " 'Recovery',\n",
       " '1.28',\n",
       " '1.43',\n",
       " '6',\n",
       " 'Shooting',\n",
       " '0.49',\n",
       " '0.75',\n",
       " '7',\n",
       " 'Chance creation',\n",
       " '0.12',\n",
       " '0.25',\n",
       " '8',\n",
       " 'Take on',\n",
       " '0.06',\n",
       " '0.07']"
      ]
     },
     "execution_count": 76,
     "metadata": {},
     "output_type": "execute_result"
    }
   ],
   "source": [
    "test = liste3.text.split(\"\\n\")\n",
    "test"
   ]
  },
  {
   "cell_type": "code",
   "execution_count": null,
   "metadata": {},
   "outputs": [],
   "source": [
    "#script pour récuperer les statistiques des joueurs\n",
    "#listes noms / listes air defence ...\n",
    "stats = []\n",
    "liste_joueur_non_present = []\n",
    "search_box = driver.find_element('xpath','//*[@id=\"player\"]')\n",
    "for player in liste_joueurs:\n",
    "    search_box.clear()\n",
    "    search_box.send_keys(player)\n",
    "    time.sleep(1)\n",
    "    auto_complete = driver.find_elements('xpath', '/html/body/div[2]/ul/li[1]')\n",
    "    try:\n",
    "        auto_complete[0].click()\n",
    "        liste3 = driver.find_element('xpath','/html/body/div/div/div/div[2]/div[2]')\n",
    "        liste3 = liste3.text.split(\"\\n\")\n",
    "        stat = [liste3[5],liste3[6],liste3[9],liste3[10],liste3[13],liste3[14],liste3[17],liste3[18],liste3[21],liste3[22],liste3[25],liste3[26],liste3[29],liste3[30],liste3[33],liste3[34]]\n",
    "        stats.append(stat)\n",
    "    except:\n",
    "        liste_joueur_non_present.append(player)"
   ]
  },
  {
   "cell_type": "code",
   "execution_count": 14,
   "metadata": {},
   "outputs": [],
   "source": [
    "connection.close()"
   ]
  },
  {
   "cell_type": "code",
   "execution_count": 53,
   "metadata": {},
   "outputs": [
    {
     "name": "stdout",
     "output_type": "stream",
     "text": [
      "footballscience\n"
     ]
    }
   ],
   "source": [
    "print(connection.database)"
   ]
  }
 ],
 "metadata": {
  "kernelspec": {
   "display_name": "footballscienceVenv",
   "language": "python",
   "name": "python3"
  },
  "language_info": {
   "codemirror_mode": {
    "name": "ipython",
    "version": 3
   },
   "file_extension": ".py",
   "mimetype": "text/x-python",
   "name": "python",
   "nbconvert_exporter": "python",
   "pygments_lexer": "ipython3",
   "version": "3.9.13"
  }
 },
 "nbformat": 4,
 "nbformat_minor": 2
}
